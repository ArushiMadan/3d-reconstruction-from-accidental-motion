{
 "cells": [
  {
   "cell_type": "code",
   "execution_count": 2,
   "metadata": {},
   "outputs": [],
   "source": [
    "import sys\n",
    "import cv2\n",
    "import numpy as np\n",
    "import pydensecrf.densecrf as dcrf\n",
    "from pydensecrf.utils import unary_from_labels, create_pairwise_bilateral, create_pairwise_gaussian"
   ]
  },
  {
   "cell_type": "code",
   "execution_count": 6,
   "metadata": {},
   "outputs": [
    {
     "name": "stdout",
     "output_type": "stream",
     "text": [
      "IMAGE and ANNO are inputs and OUTPUT is where the result should be written.\n",
      "If there's at least one single full-black pixel in ANNO, black is assumed to mean unknown.\n",
      "Found a full-black pixel in annotation image, assuming it means 'unknown' label, and will thus not be present in the output!\n",
      "If 0 is an actual label for you, consider writing your own code, or simply giving your labels only non-zero values.\n",
      "2  labels  plus \"unknown\" 0:  {0, 1, 2}\n",
      "KL-divergence at 0: -543710.7136065669\n",
      "KL-divergence at 1: -890203.419608985\n",
      "KL-divergence at 2: -919601.7338062498\n",
      "KL-divergence at 3: -921429.4572714944\n",
      "KL-divergence at 4: -922284.9388207317\n"
     ]
    }
   ],
   "source": [
    "print(\"IMAGE and ANNO are inputs and OUTPUT is where the result should be written.\")\n",
    "print(\"If there's at least one single full-black pixel in ANNO, black is assumed to mean unknown.\")\n",
    "\n",
    "fn_im = './image.png'\n",
    "fn_anno = './annotation+unknown.png'\n",
    "fn_output = './output.png'\n",
    "\n",
    "img = cv2.imread(fn_im)\n",
    "\n",
    "# Convert the annotation's RGB color to a single 32-bit integer color 0xBBGGRR\n",
    "anno_rgb = cv2.imread(fn_anno).astype(np.uint32)\n",
    "anno_lbl = anno_rgb[:,:,0] + (anno_rgb[:,:,1] << 8) + (anno_rgb[:,:,2] << 16)\n",
    "\n",
    "# Convert the 32bit integer color to 1, 2, ... labels.\n",
    "# Note that all-black, i.e. the value 0 for background will stay 0.\n",
    "colors, labels = np.unique(anno_lbl, return_inverse=True)\n",
    "\n",
    "# But remove the all-0 black, that won't exist in the MAP!\n",
    "HAS_UNK = 0 in colors\n",
    "if HAS_UNK:\n",
    "    print(\"Found a full-black pixel in annotation image, assuming it means 'unknown' label, and will thus not be present in the output!\")\n",
    "    print(\"If 0 is an actual label for you, consider writing your own code, or simply giving your labels only non-zero values.\")\n",
    "    colors = colors[1:]\n",
    "#else:\n",
    "#    print(\"No single full-black pixel found in annotation image. Assuming there's no 'unknown' label!\")\n",
    "\n",
    "# And create a mapping back from the labels to 32bit integer colors.\n",
    "colorize = np.empty((len(colors), 3), np.uint8)\n",
    "colorize[:,0] = (colors & 0x0000FF)\n",
    "colorize[:,1] = (colors & 0x00FF00) >> 8\n",
    "colorize[:,2] = (colors & 0xFF0000) >> 16\n",
    "\n",
    "# Compute the number of classes in the label image.\n",
    "# We subtract one because the number shouldn't include the value 0 which stands\n",
    "# for \"unknown\" or \"unsure\".\n",
    "n_labels = len(set(labels.flat)) - int(HAS_UNK)\n",
    "print(n_labels, \" labels\", (\" plus \\\"unknown\\\" 0: \" if HAS_UNK else \"\"), set(labels.flat))\n",
    "\n",
    "###########################\n",
    "### Setup the CRF model ###\n",
    "###########################\n",
    "\n",
    "d = dcrf.DenseCRF2D(img.shape[1], img.shape[0], n_labels)\n",
    "\n",
    "# get unary potentials (neg log probability)\n",
    "U = unary_from_labels(labels, n_labels, gt_prob=0.7, zero_unsure=HAS_UNK)\n",
    "d.setUnaryEnergy(U)\n",
    "\n",
    "# This adds the color-independent term, features are the locations only.\n",
    "d.addPairwiseGaussian(sxy=(3, 3), compat=3, kernel=dcrf.DIAG_KERNEL,\n",
    "                      normalization=dcrf.NORMALIZE_SYMMETRIC)\n",
    "\n",
    "# This adds the color-dependent term, i.e. features are (x,y,r,g,b).\n",
    "d.addPairwiseBilateral(sxy=(80, 80), srgb=(13, 13, 13), rgbim=img,\n",
    "                       compat=10,\n",
    "                       kernel=dcrf.DIAG_KERNEL,\n",
    "                       normalization=dcrf.NORMALIZE_SYMMETRIC)\n",
    "\n",
    "####################################\n",
    "### Do inference and compute MAP ###\n",
    "####################################\n",
    "\n",
    "# Run five inference steps.\n",
    "Q = d.inference(5)\n",
    "\n",
    "# Find out the most probable class for each pixel.\n",
    "MAP = np.argmax(Q, axis=0)\n",
    "\n",
    "# Convert the MAP (labels) back to the corresponding colors and save the image.\n",
    "# Note that there is no \"unknown\" here anymore, no matter what we had at first.\n",
    "MAP = colorize[MAP,:]\n",
    "cv2.imwrite(fn_output, MAP.reshape(img.shape))\n",
    "\n",
    "# Just randomly manually run inference iterations\n",
    "Q, tmp1, tmp2 = d.startInference()\n",
    "for i in range(5):\n",
    "    print(\"KL-divergence at {}: {}\".format(i, d.klDivergence(Q)))\n",
    "    d.stepInference(Q, tmp1, tmp2)"
   ]
  },
  {
   "cell_type": "code",
   "execution_count": null,
   "metadata": {},
   "outputs": [],
   "source": []
  }
 ],
 "metadata": {
  "kernelspec": {
   "display_name": "Python 3",
   "language": "python",
   "name": "python3"
  },
  "language_info": {
   "codemirror_mode": {
    "name": "ipython",
    "version": 3
   },
   "file_extension": ".py",
   "mimetype": "text/x-python",
   "name": "python",
   "nbconvert_exporter": "python",
   "pygments_lexer": "ipython3",
   "version": "3.6.7"
  }
 },
 "nbformat": 4,
 "nbformat_minor": 4
}
